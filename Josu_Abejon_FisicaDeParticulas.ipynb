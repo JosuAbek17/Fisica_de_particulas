{
 "cells": [
  {
   "cell_type": "markdown",
   "metadata": {
    "nteract": {
     "transient": {
      "deleting": false
     }
    }
   },
   "source": [
    "<img src=\"https://pbs.twimg.com/media/CWhF64OXIAAtCa4.png\" referrerpolicy=\"no-referrer\">"
   ]
  },
  {
   "cell_type": "markdown",
   "metadata": {
    "nteract": {
     "transient": {
      "deleting": false
     }
    }
   },
   "source": [
    "# Objetivo\n",
    "Simular la interacción básica de partículas con ciertos medios gracias al software Geant4, desarrollado por el CERN.\n",
    "\n",
    "En este laboratorio vamos a manejar una serie de contenedores Docker para orquestar una serie de servicios sencillos virtualizados. En lugar de instalar Docker en nuestra computadora (que podríamos hacerlo perfectamente), vamos usar el servicio gratuito Play with Docker.\n",
    "\n",
    "Este servicio no es más que un playground para que, quien quiera pueda explorar la creación y gestión de contenedores virtuales basados en Docker. Vamos a ver en qué consiste."
   ]
  },
  {
   "cell_type": "markdown",
   "metadata": {
    "nteract": {
     "transient": {
      "deleting": false
     }
    }
   },
   "source": [
    "# Play with Docker\n",
    "Play with Docker es un servicio cloud que nos permite jugar con Docker sin necesidad de instalar Docker localmente. Cada vez que accedemos a una sesión en Play with Docker, tenemos 4 maravillosas horas para experimentar con Docker, hasta que esta se cierra automáticamente. Parece poco tiempo pero es el suficiente para llevar a cabo nuestro humilde y divertido laboratorio. Dicho de otra manera: tenemos acceso casi ilimitado (en recursos) a un super computador orientado a familiarizarnos con contenedores virtuales durante todo el periodo de duración de la clase/laboratorio. Para acceder a Play with Docker, sólo necesitamos una cuenta en Docker. Como en la gran mayoría de servicios, este registro es gratuito, rápido y comporta los típicos pasos de selección de contraseña, envío de correo, confirmación de recepción de correo, etc.\n",
    "\n",
    "Una vez que ya tenemos acceso a la consola de Play with Docker, podemos solicitar máquinas reales (en realidad siguen siendo virtuales, pero a efectos prácticos, las trataremos como si fueran reales) sobre las que ejecutar a su vez contenedores Docker gracias a su toolkit. Al inicio no habrá ninguna, pero podemos crear la primera (y única que necesitamos) con el comando ADD NEW INSTANCE que se puede ver en la imagen."
   ]
  },
  {
   "cell_type": "markdown",
   "metadata": {
    "nteract": {
     "transient": {
      "deleting": false
     }
    }
   },
   "source": [
    "<img src=\"https://i.stack.imgur.com/y9qCI.png\" referrerpolicy=\"no-referrer\">"
   ]
  },
  {
   "cell_type": "markdown",
   "metadata": {
    "nteract": {
     "transient": {
      "deleting": false
     }
    }
   },
   "source": [
    "Cuando creamos una instancia, es como si accediéramos a una máquina pseudo real (o para lo que a todos los efectos, será una máquina real para nosotros). Se nos abrirá una sesión de shell de GNU Linux (Bash en este caso) justo al lado y sobre la que podemos introducir comados Unix de toda la vida, entre ellos los relacionados con Docker. En estas máquinas cuasi-reales ya está instalado todo el stack de Docker y podemos, a su vez, trabajar con contenedores virtuales basados en esta tecnología de vanguardia. En realidad Play with Docker hace uso de DIND. Esta tecnología permite albergar contenedores Docker dentro de un contenedor Docker (sí, algo así como un sueño dentro de un sueño). Es decir: las instancias en Play with Docker son en realidad… ¡contenedores Docker!"
   ]
  },
  {
   "cell_type": "markdown",
   "metadata": {
    "nteract": {
     "transient": {
      "deleting": false
     }
    }
   },
   "source": [
    "<b>Pregunta:</b> ¿Cuál es la diferencia entre una imagen y un contenedor?"
   ]
  },
  {
   "cell_type": "markdown",
   "metadata": {
    "nteract": {
     "transient": {
      "deleting": false
     }
    }
   },
   "source": [
    "<b>Respuesta:</b> En docker una imagen sería por así decirlo un fichero que no está subido a ninguna máquina, cuando esa imagen la arrancas pasaría a ser un contedor, mientras sólo sea la plantilla es una imagen y un contenedor es esa plantilla que se ha ejecutado con una serie de comandos."
   ]
  },
  {
   "cell_type": "markdown",
   "metadata": {
    "nteract": {
     "transient": {
      "deleting": false
     }
    }
   },
   "source": [
    "Nos fijamos que la instancia que hemos creado en Play with Docker es como si se tratara de un ordenador tnuestro que estuviera en red y en ese ordenador tuvieramos instalado Docker. Así de sencillo. A partir de ese momento ya no necesitamos acceder a Play with Docker mediante en el navegador (aunque está bien que lo dejemos aparcado a un lado en caso de necesidad). Usaremos VS Code y acceso SSH tradicional, concretamente mediante dos clientes SSH milenarios: OpenSSH y Putty. El primero viene preinstalado típicamente en máquinas GNU/Linux y macOS y el segundo se tiene que descargar y hay versiones para todos los sistemas operativos (es el que se recomienda, por simplicidad, si estás en Windows)."
   ]
  },
  {
   "cell_type": "markdown",
   "metadata": {
    "nteract": {
     "transient": {
      "deleting": false
     }
    }
   },
   "source": [
    "Importante: tomamos nota del usuario que nos da Play with Docker y que empieza por ip y acaba en @direct… (Ejemplo: ip172-18-0-27-bg3pvjs3uhdg008ir0fg). Copiamos esa cadena de texto y la guardamos para futuros usos. A lo largo de este trabajo nos referiremos a ella con la variable de entorno $usuariopwd. También podemos regenerar el contenido de esta variable mediante este comando (a ejecutar en la consola web de Play with Docker):"
   ]
  },
  {
   "cell_type": "code",
   "execution_count": null,
   "metadata": {
    "jupyter": {
     "outputs_hidden": false,
     "source_hidden": false
    },
    "nteract": {
     "transient": {
      "deleting": false
     }
    }
   },
   "outputs": [],
   "source": [
    "echo ip$(ifconfig eth1 | grep \"inet \" | awk -F'[: ]+' '{ print $4 }' | sed 's/\\./-/g')-$SESSION_ID"
   ]
  },
  {
   "cell_type": "markdown",
   "metadata": {
    "nteract": {
     "transient": {
      "deleting": false
     }
    }
   },
   "source": [
    "<b>Pregunta:</b> ¿Qué hace el comando anterior? ¿De qué subcomandos se compone y qué papel juegan (ifconfig, grep, awk y sed)?"
   ]
  },
  {
   "cell_type": "markdown",
   "metadata": {
    "nteract": {
     "transient": {
      "deleting": false
     }
    }
   },
   "source": [
    "<b>Rspuesta:</b> Imprime por cosnola el ip address más el la variable única, supongo, del session_ID.\n",
    "\n",
    "* ifconfig: Se usa para configurar interfaces de red. Ifconfig significa interface configurator (configuración de interfaz).\n",
    "* grep: Lee la entrada estándar o una lista de archivos, e imprime las líneas que contengan coincidencias para la expresión regular.\n",
    "* awk: Filtra ficheros o salida de comandos, tratando las líneas para mostrar una determinada información sobre las mismas.\n",
    "* sed: Sirve para buscar, buscar y remplazar, insertar, eliminar pero en este caso lo utilizaremos para sustituir un caracter por otro."
   ]
  },
  {
   "cell_type": "markdown",
   "metadata": {
    "nteract": {
     "transient": {
      "deleting": false
     }
    }
   },
   "source": [
    "# Software a instalar localmente\n",
    "Estos son los distintos programas/paquetes que necesitas en tu sistema local:\n",
    "\n",
    "* Visual Studio Code (VS Code, para los amigos).\n",
    "* Python. ¡Ojo!, no es necesario instalar Python ni vamos a trabajar con un intérprete de este lenguaje en nuestra máquina local. Sólo queremos esta extensión para que VS Code haga sintaxis de color de código Python (que será ejecutado por un contenedor Docker que crearemos en nuestra instancia pseudoreal en el servicio Play with Docker).\n",
    "* Preview on Web Server, de Yuichi Nuikiyama. Esta extensión nos permite visualizar las simulaciones 3D en un navegador. Con la combinación de teclas Cntrl + Shift + L se abrirá un navegador que estará atento a cambios en la página web donde se dibujen las escenas 3D representando la física que estamos simulando.\n",
    "* Putty, un cliente SSH muy conocido en Windows. También puedes usar Putty en macOS. Te recomiendo que los instales mediante Scoop o Homebrew, respectivamente.\n",
    "* Instant Player para visualizar las trazas de partículas. Se trata un visor de instrucciones VWRL disponible tanto para macOS, Windows, Ubuntu, Red Hat y SUSE. Para solucionar el problema de que falta un archivo MSVCP110.dll en el caso de algunas versiones de Windows, instalad el runtime mínimo de Microsoft Visual C++ 2012 Redistributable para 64 bit desde aquí.  \n",
    "\n",
    "<b>Preguntas:</b> ¿Qué otros formatos estándar de representación 3D conoces (Collada, Stanford, Wavefront, X3D Extensible, Standard Tessellation Language, x3dom, etc.)? ¿Quién desarrolla Instant Player qué contribuciones ha hecho al mundo de la tecnología?\n",
    "\n",
    "<b>Respuesta:</b> No conozco ninguno, lo unico con lo que estoy familiarizado es con la librería Three.js de JavaScript.  \n",
    "Johannes Behr es el que desarrolla instant player, el objetivo es fomentar la sostenibilidad del desarrollo de software en el campo de la realidad mixta y ofrecer un marco que abarque los resultados de muchos proyectos de investigación, han contribuido a la red alemana de Tecnologías de Realidad Virtual y Aumentada, de este modo, se han desarrollado aplicaciones en el campo de la medicina, la construcción naval y la ingeniería automotriz, de plantas y maquinaria.\n",
    "\n",
    "* Paraview, de Kitware, pero sólo se recomienda su uso en el caso de que, por alguna razón Instant Player no funcione de ninguna manera (quizás en el caso de que tu arquitectura sea todavía 32 bit). Para ver las trazas de las partículas correctamente, elige el modo Wireframe (barra de herramientas).  \n",
    "\n",
    "<b>Pregunta:</b> ¿En qué proyectos está involucrada la empresa Kitware y cómo han cambiado el mundo de la informática, la tecnología, la ciencia y la medicina? Pista: CMake, VTK, ITK, etc.\n",
    "\n",
    "<b>Respuesta:</b> La compañía ha expandido su visión incluyendo desarrollos en diversas áreas como en procesamiento de imágenes médicas, visualización científica, procesos de desarrollo de software, visualización de información multidimensional y administración de datos.\n",
    "\n",
    "* view3dscene, de Castle Game Engine. Es otro visualizador 3D multiplataforma, parte de este conocidísimo motor de videojuegos (competencia directa de Unity).  \n",
    "\n",
    "* Docker ¡No! No es necesario instalar Docker, pero ya que estamos…\n",
    "<b>Pregunta:</b> ¿Qué es Docker? ¿Qué son los contenedores virtuales? ¿Qué alternativas a Docker existen (OpenVZ, LXC, Vagrant, rkt, etc.)? ¿Por qué Docker se ha convertido en un software tan popular?\n",
    "\n",
    "<b>Respuesta:</b> Docker es una plataforma abierta para que desarrolladores y administradores de sistemas desarrollen, envíen y ejecuten aplicaciones distribuidas, ya sea en computadoras portátiles, maquinas virtuales de centros de datos o en la nube.  \n",
    "Docker empaqueta software en “contenedores” que incluyen en ellos todo lo necesario para que dicho software se ejecute, incluidas librerías.\n",
    "\n",
    "Los contenedores son un conjunto de tecnologías que juntas forman un contenedor (de Docker), este conjunto de tecnologías se llaman:\n",
    "\n",
    "* Namespaces: Permite a la aplicación que corre en un contenedor de Docker tener una vista de los recursos del sistema operativo.\n",
    "* Cgroups: Permite limitar y medir los recursos que se encuentran disponibles en el sistema operativo.\n",
    "* Chroot: Permite tener en el contenedor una vista de un sistema “falso” para el mismo, es decir, crea su propio entorno de ejecución con su propio root y home.  \n",
    "\n",
    "Algunas de las características más notables de un contenedor son:\n",
    "\n",
    "* Los contenedores son más livianos (ya que trabajan directamente sobre el Kernel) que las maquinas virtuales.\n",
    "* No es necesario instalar un sistema operativo por contenedor.\n",
    "* Menor uso de los recursos de la máquina.\n",
    "* Mayor cantidad de contenedores por equipo físico.\n",
    "* Mejor portabilidad.\n",
    "\n",
    "<div style=\"padding:40px\">\n",
    "<img alt=\"\" src=\"https://www.redeszone.net/app/uploads/2016/02/docker-vs-virtual-machines.png\"> \n",
    "</div>\n",
    "  \n",
    "Algunas de las alternativas que podemos encontrar son:\n",
    "\n",
    "* RKT.\n",
    "* Vagrant.\n",
    "* PodMan.\n",
    "* Singularity.\n",
    "* LXC.\n",
    "* OpenVz.\n",
    "\n",
    "Una de las razones importantes por la que Docker es tan popular es por que presta a la integración continua / implementación continua (CI / CD). Esta es una metodología de DevOps diseñada para alentar a los desarrolladores a integrar su código en un repositorio compartido de manera temprana y frecuente, y luego a implementar el código de manera rápida y eficiente.\n",
    "\n",
    "Docker permite a los desarrolladores empacar, enviar y ejecutar fácilmente cualquier aplicación como un contenedor liviano, portátil y autosuficiente, que puede ejecutarse prácticamente en cualquier lugar. Como Bottomley me dijo, “Containers te ofrece portabilidad de aplicaciones instantánea”.\n",
    "\n",
    "* PowerShell. En el caso de Windows (en incluso Linux y macOS), te recomiendo que uses PowerShell. Se trata de un shell de código abierto y multiplataforma creado por Microsoft. Todos los comandos de este manual vienen preparados para Bash y PowerShell. VS Code debería detectar que tienes PowerShell instalado y ofrecerte su uso como shell por defecto, pero si acaso no fuera así, consulta esta página de ayuda de Microsoft."
   ]
  },
  {
   "cell_type": "markdown",
   "metadata": {
    "nteract": {
     "transient": {
      "deleting": false
     }
    }
   },
   "source": [
    "# Ejecución del laboratorio\n",
    "Ejecutaremos esta simulacion en local, para ello:\n",
    "\n",
    "* Crear una instancia en Play with Docker.\n",
    "\n",
    "* Abrir una carpeta de trabajo (workspace) desde Visual Studio Code. En esta carpeta de trabajo es donde guardaremos los archivos .key y .ppk (de los que luego hablaremos) y desde donde lanzaremos los comandos a ejecutar remotamente en nuestra instancia Play with Docker. \n",
    "* Descárgar los archivos geant4lab.ppk y  geant4lab.key  proporcionados por Alberto.  \n",
    "\n",
    "<b>Preguntas:</b> ¿Qué es un fichero ppk? ¿Qué es una clave RSA público/privada (fichero key)?\n",
    "\n",
    "<b>Respusta:</b> \n",
    "Son ficheros creados por Putty que sirven como almacenamiento para las claves privadas del programa generado, estos archivos se utilizan para permitir la comunicación segura con otra parte que tenga la clave pública correspondiente.\n",
    "\n",
    "Es el equivalente al ppk pero para usarlo en SSH."
   ]
  },
  {
   "cell_type": "markdown",
   "metadata": {
    "nteract": {
     "transient": {
      "deleting": false
     }
    }
   },
   "source": [
    "# Descarga de la imagen Docker del laboratorio\n",
    "Lo primero que tenemos que hacer es descargarnos la imagen de la pila de contenedores que conforman una imagen con todo lo necesario para ejecutar Geant4. Esta imagen se encuentra ya en el Docker Hub.\n",
    "\n",
    "<b>Preguntas:</b> ¿Qué es el Hub de Docker? ¿Cuál es la diferencia entre una imagen y un contenedor?\n",
    "\n",
    "<b>Respuesta:</b> Es un repositorio público en la nube, similar a Github, para distribuir los contenidos. Los contenedores de Docker nos permiten encapsular la aplicación y sus dependencias. En docker una imagen sería por así decirlo un fichero que no está subido a ninguna máquina, cuando esa imagen la arrancas pasaría a ser un contedor, mientras sólo sea la plantilla es una imagen y un contenedor es esa plantilla que se ha ejecutado con una serie de comandos.\n",
    " \n",
    "Para enviar esta orden ejecutaremos una comando remoto por SSH (mediante sus implementaciones OpenSSH y/o Putty, a elegir). Estos comandos remotos los invocaremos directamente desde el terminal integrado de VS Code. Nunca salimos de VS Code, salvo que queramos ver las simulaciones 3D con un visualizador externo (Instant Player, Paraview, Blender, etc.).\n",
    "\n",
    "En el caso de que usemos una consola Bash o PowerShell, también podemos guardar la cadena que identifica la conexión a PWD en una variable de entorno (por ejemplo: $usuariopwd) y hacer referencia a esta en las llamadas SSH. Voy a repasar con un ejemplo cómo se usan estas variables de entorno tanto en Unix (Bash) como Windows (PowerShell, aunque este shell de Microsoft está disponible a su vez tanto para Linux y para macOS):"
   ]
  },
  {
   "cell_type": "code",
   "execution_count": null,
   "metadata": {
    "jupyter": {
     "outputs_hidden": false,
     "source_hidden": false
    },
    "nteract": {
     "transient": {
      "deleting": false
     }
    }
   },
   "outputs": [],
   "source": [
    "usuariopwd='ip172-18-0-87-bo8bss3jagq000bqatpg'  # Bash \n",
    "$usuariopwd='ip172-18-0-87-bo8bss3jagq000bqatpg'  # PowerShell"
   ]
  },
  {
   "cell_type": "markdown",
   "metadata": {
    "nteract": {
     "transient": {
      "deleting": false
     }
    }
   },
   "source": [
    "Por descontado, también podemos usar Bash sobre WSL.\n",
    "\n",
    "En el caso de Windows, nos aseguramos de añadir previamente el directorio donde ha quedado Putty instalado (donde se encuentren los programas putty.exe y plink.exe) a la variable path de la configuración de VS Code (editando directamente el archivo settings.json):\n",
    "\n",
    "<div style=\"padding:40px\">\n",
    "<img src=\"https://tva1.sinaimg.cn/large/006tNbRwgy1galvolztkhj316q0f8acn.jpg\" referrerpolicy=\"no-referrer\">\n",
    "</div>"
   ]
  },
  {
   "cell_type": "code",
   "execution_count": null,
   "metadata": {
    "jupyter": {
     "outputs_hidden": false,
     "source_hidden": false
    },
    "nteract": {
     "transient": {
      "deleting": false
     }
    }
   },
   "outputs": [],
   "source": [
    "\"terminal.integrated.env.windows\": { \"path\": \n",
    "\"%path%;C:/carpeta/de/plink-y-putty\" }"
   ]
  },
  {
   "cell_type": "markdown",
   "metadata": {
    "nteract": {
     "transient": {
      "deleting": false
     }
    }
   },
   "source": [
    "Nosotros lo que haremos será llamar al comando 'docker pull pammacdotnet/geant4lab', a traves de nuestra consola de docker,  para descargar la imagen geant4lab."
   ]
  },
  {
   "cell_type": "markdown",
   "metadata": {
    "nteract": {
     "transient": {
      "deleting": false
     }
    }
   },
   "source": [
    "Desde la consola de Bash integrada en en VS Code descargamos el fichero simulation.py."
   ]
  },
  {
   "cell_type": "markdown",
   "metadata": {
    "nteract": {
     "transient": {
      "deleting": false
     }
    }
   },
   "source": [
    "curl https://raw.githubusercontent.com/pammacdotnet/FFRepo/master/simulation.py -o simulation.py -s"
   ]
  },
  {
   "cell_type": "markdown",
   "metadata": {
    "nteract": {
     "transient": {
      "deleting": false
     }
    }
   },
   "source": [
    "De igual manera, descargaremos el fichero wrl2html.py, que servirá más tarde para generar versiones WebGL de las simulaciones:"
   ]
  },
  {
   "cell_type": "code",
   "execution_count": null,
   "metadata": {
    "jupyter": {
     "outputs_hidden": false,
     "source_hidden": false
    },
    "nteract": {
     "transient": {
      "deleting": false
     }
    }
   },
   "outputs": [],
   "source": [
    "curl https://raw.githubusercontent.com/pammacdotnet/FFRepo/master/wrl2html.py -o wrl2html.py -s\n",
    "chmod +x wrl2html.py "
   ]
  },
  {
   "cell_type": "markdown",
   "metadata": {
    "nteract": {
     "transient": {
      "deleting": false
     }
    }
   },
   "source": [
    "Este código de la simulación describe un experimento de física de partículas cuya representación es más o menos esta:\n",
    "  \n",
    "  <div style=\"padding:40px\">\n",
    "  <img src=\"https://pbs.twimg.com/media/CYbab8dWAAA4CCi.png\" referrerpolicy=\"no-referrer\">\n",
    "  </div>\n",
    "  \n",
    "Se trata de un universo en forma de cuboide donde las partículas subatómicas son aceleradas (por los medios que sean) y son proyectadas con forma cónica contra un objetivo (un target o fantoma) de un material que podemos variar a nuestro antojo en composición, tamaño y posición. Nosotros no nos preocupamos sobre cómo esas partículas han cobrado esa energía, sino solamente por cómo interaccionan con la materia.\n",
    "\n",
    "<b>Pregunta:</b> ¿Cómo se llama a este tipo de haz de partículas?\n",
    "\n",
    "<b>Respuesta:</b> Pencil Beam"
   ]
  },
  {
   "cell_type": "markdown",
   "metadata": {
    "nteract": {
     "transient": {
      "deleting": false
     }
    }
   },
   "source": [
    "# Ejecución de la simulación\n",
    "Ahora sólo tenemos que lanzar el comando de ejecución de la simulación desde el terminal integrado de VS Code:"
   ]
  },
  {
   "cell_type": "markdown",
   "metadata": {
    "nteract": {
     "transient": {
      "deleting": false
     }
    }
   },
   "source": [
    "* En el caso de OpenSSH:"
   ]
  },
  {
   "cell_type": "code",
   "execution_count": null,
   "metadata": {
    "execution": {
     "iopub.execute_input": "2021-01-28T19:30:23.896Z",
     "iopub.status.busy": "2021-01-28T19:30:23.886Z"
    },
    "jupyter": {
     "outputs_hidden": false,
     "source_hidden": false
    },
    "nteract": {
     "transient": {
      "deleting": false
     }
    }
   },
   "outputs": [],
   "source": [
    "ssh -l $usuariopwd direct.labs.play-with-docker.com -i geant4lab.key\n",
    " \"/usr/local/bin/docker run -v /root:/root/Geant4Lab pammacdotnet/geant4lab\""
   ]
  },
  {
   "cell_type": "markdown",
   "metadata": {
    "nteract": {
     "transient": {
      "deleting": false
     }
    }
   },
   "source": [
    "* En el caso de Putty:"
   ]
  },
  {
   "cell_type": "code",
   "execution_count": null,
   "metadata": {
    "jupyter": {
     "outputs_hidden": false,
     "source_hidden": false
    },
    "nteract": {
     "transient": {
      "deleting": false
     }
    }
   },
   "outputs": [],
   "source": [
    "plink -batch -ssh -l $usuariopwd direct.labs.play-with-docker.com -i geant4lab.ppk\n",
    " \"/usr/local/bin/docker run -v /root:/root/Geant4Lab pammacdotnet/geant4lab\""
   ]
  },
  {
   "cell_type": "markdown",
   "metadata": {
    "nteract": {
     "transient": {
      "deleting": false
     }
    }
   },
   "source": [
    "Aparecerá un nuevo fichero en la instancia remota: simulacion.wrl. Este fichero es un diagrama 3D que puedes ver con un visualizador externo. Pero no tengamos prisa, ya que este fichero se encuentra en la instancia remota: todavía tenemos que descargarlo a nuestra máquina local.\n",
    "\n",
    "<b>Pregunta:</b> ¿Qué son los archivos wrl? ¿De qué estándar internacional se trata?\n",
    "\n",
    "<b>Respuesta:</b> La extensión de archivo WRL se refiere a un archivo creado en VRML, que viene de Lenguaje de Modelado de Realidad Virtual.\n",
    "Este archivo, que representa un mundo 3D virtual, es guardado con un formato de texto ASCII y puede ser editado por un editor de texto\n",
    "\n",
    "Este comando que acabamos de comentar (docker run) crea un contenedor Docker que tiene mapeada la carpeta interna /root/Geant4Lab con el directorio personal (home) del usuario root en la instancia Play with Docker. Esto se consigue con la opción -v (más info aquí). Sí… suena un poco mareante y efectivamente así es. En realidad Play with Docker hace uso de DIND. Esta tecnología permite albergar contenedores Docker dentro de un contenedor Docker.\n",
    "\n",
    "El contenedor anterior tiene como cometido ejecutar un único proceso (que no es otro que un intérprete Python que interpreta las instrucciones de simulacion.py). Como las dos carpetas están enlazadas tanto para lectura como escritura, el fichero simulacion.wrl estará disponible en /root de la instancia Play with Docker.\n",
    "\n",
    "También podemos comprobar en cualquier momento que se ha generado correctamente ese fichero accediendo a la instancia Docker mediante la web de Play with Docker o, nuevamente, mediante consola/SSH interactiva a la máquina de Play With Docker. En ambos casos, el comando ls te listará los ficheros de la carpeta home (/root) del usuario por defecto (root)."
   ]
  },
  {
   "cell_type": "markdown",
   "metadata": {
    "nteract": {
     "transient": {
      "deleting": false
     }
    }
   },
   "source": [
    "# Visualización de la simulación\n",
    "\n",
    "Una vez que ya tenemos la simulación, sólo tenemos que visualizarla con Instant Player (o ParaView o view3dscene). Para ello, tenemos que traer (o mejor expresado, descargar). Lo podemos lograr gracias a lo comandos scp y pscp:\n",
    "\n",
    "* En el caso de OpenSSH:"
   ]
  },
  {
   "cell_type": "code",
   "execution_count": null,
   "metadata": {
    "jupyter": {
     "outputs_hidden": false,
     "source_hidden": false
    },
    "nteract": {
     "transient": {
      "deleting": false
     }
    }
   },
   "outputs": [],
   "source": [
    "scp -i geant4lab.key -o User=$usuariopwd direct.labs.play-with-docker.com:/root/simulacion.wrl simulacion.wrl"
   ]
  },
  {
   "cell_type": "markdown",
   "metadata": {
    "nteract": {
     "transient": {
      "deleting": false
     }
    }
   },
   "source": [
    "* En el caso de Putty"
   ]
  },
  {
   "cell_type": "code",
   "execution_count": null,
   "metadata": {
    "jupyter": {
     "outputs_hidden": false,
     "source_hidden": false
    },
    "nteract": {
     "transient": {
      "deleting": false
     }
    }
   },
   "outputs": [],
   "source": [
    "pscp -i geant4lab.ppk -l $usuariopwd direct.labs.play-with-docker.com:/root/simulacion.wrl simulation.wrl\n"
   ]
  },
  {
   "cell_type": "markdown",
   "metadata": {
    "nteract": {
     "transient": {
      "deleting": false
     }
    }
   },
   "source": [
    "Una vez descargada, abrimos el fichero con Instant Player o, si ya está el fichero abierto, puedes simplemente recargarlo (File  ➡️  Reload). Lo que vemos en el visualizador son trazas de partículas, es decir, sólo vemos partículas que estén en movimiento. Las partículas o materia paradas, no se muestran. \n",
    "\n"
   ]
  },
  {
   "cell_type": "markdown",
   "metadata": {
    "nteract": {
     "transient": {
      "deleting": false
     }
    }
   },
   "source": [
    "# Visualización con estándares web\n",
    "\n",
    "Pero quizás, la visualización más developer-friendly es la basada en HTML y estándares Web (WebGL). Luego ejecuta estos comandos (según uses OpenSSH o Putty) para convertir el archivo *.wrl a *.html."
   ]
  },
  {
   "cell_type": "code",
   "execution_count": null,
   "metadata": {
    "jupyter": {
     "outputs_hidden": false,
     "source_hidden": false
    },
    "nteract": {
     "transient": {
      "deleting": false
     }
    }
   },
   "outputs": [],
   "source": [
    "ssh -l $usuariopwd direct.labs.play-with-docker.com -i geant4lab.key \"/usr/bin/python3 /root/wrl2html.py\" # OpenSSH\n",
    "\n",
    "plink -batch -ssh -l $usuariopwd direct.labs.play-with-docker.com -i geant4lab.ppk \"/usr/bin/python3 /root/wrl2html.py\" # Putty"
   ]
  },
  {
   "cell_type": "markdown",
   "metadata": {
    "nteract": {
     "transient": {
      "deleting": false
     }
    }
   },
   "source": [
    "Esto generará el archivo simulation.html que, nuevamente, puedes copiar a tu carpeta de trabajo local (ya en tu disco duro) con los comandos scp y pscp que hemos visto anteriormente:"
   ]
  },
  {
   "cell_type": "code",
   "execution_count": null,
   "metadata": {
    "jupyter": {
     "outputs_hidden": false,
     "source_hidden": false
    },
    "nteract": {
     "transient": {
      "deleting": false
     }
    }
   },
   "outputs": [],
   "source": [
    "scp -i geant4lab.key -o User=$usuariopwd direct.labs.play-with-docker.com:/root/simulation.html .  # OpenSSH\n",
    "\n",
    "pscp -i geant4lab.ppk -l $usuariopwd direct.labs.play-with-docker.com:/root/simulation.html .  # Putty"
   ]
  },
  {
   "cell_type": "markdown",
   "metadata": {
    "nteract": {
     "transient": {
      "deleting": false
     }
    }
   },
   "source": [
    "<b>Pregunta:</b> ¿Cómo es posible que veamos figuras 3D en una página web? ¿Qué estándares, alternativas, consorcios e instituciones están implicados? ¿Qué alternativa estamos usando en este ejercicio y qué gran centro de investigación en matemáticas estuvo implicado?"
   ]
  },
  {
   "cell_type": "markdown",
   "metadata": {
    "nteract": {
     "transient": {
      "deleting": false
     }
    }
   },
   "source": [
    "<b>Respuesta:</b> Es de debido al modelado 3d que es el proceso de desarrollo de una representación matemática de cualquier objeto tridimensional (ya sea inanimado o vivo) a través de un software especializado. Al producto se le llama modelo 3D. Se puede visualizar como una imagen bidimensional mediante un proceso llamado renderizado 3D o utilizar en una simulación por computadora de fenómenos físicos. El modelo también se puede crear físicamente usando dispositivos de impresión 3D.\n",
    "El Web3D Consortium es una organización sin fines de lucro, cuyo objetivo es definir y desarrollar el formato de archivo libre con estándares abiertos X3D y arquitectura de ejecución para representar y comunicar escenas en 3D. X3D su base está desarrollado en VRML.\n",
    "\n",
    "Por último: también sería posible visualizar los ficheros wrl con Blender, ParaView, view3dscene y muchos otros."
   ]
  },
  {
   "cell_type": "markdown",
   "metadata": {
    "nteract": {
     "transient": {
      "deleting": false
     }
    }
   },
   "source": [
    "# Interacciones de partículas con la materia\n",
    "\n",
    "Vamos a describir las más habituales que encontraremos nosotros mismos en las simulaciones:"
   ]
  },
  {
   "cell_type": "markdown",
   "metadata": {
    "nteract": {
     "transient": {
      "deleting": false
     }
    }
   },
   "source": [
    "## Efecto Fotoeléctrico\n",
    "\n",
    "El efecto fotoeléctrico se produce cuando tiene lugar una interacción entre un fotón (partícula incidente) y un átomo. La consecuencia de una interacción fotoeléctrica es la emisión de electrones (fotoelectrones), debido a la absorción total de la energía del fotón por el electrón ligado. El fotón es absorbido completamente y desaparece de la escena.\n",
    "\n",
    "<b>prueba:</b>\n",
    "\n",
    "* material_del_fantoma = \"G4_Au\"\n",
    "* tipo_de_particulas = \"gamma\"\n",
    "* numero_de_particulas = 20\n",
    "* energia_de_las_particulas = 20\n",
    "* grosor_del_fantoma = 40\n",
    "\n",
    "Colores de las trazas para que las puedas seguir en el diagrama 3D:\n",
    "\n",
    "* color_electrones = \"red\"\n",
    "* color_positrones = \"yellow\"\n",
    "* color_fotones = \"blue\"\n",
    "* color_protones = \"green\""
   ]
  },
  {
   "cell_type": "code",
   "execution_count": null,
   "metadata": {
    "jupyter": {
     "output_hidden": false,
     "source_hidden": true
    }
   },
   "outputs": [],
   "source": []
  },
  {
   "cell_type": "markdown",
   "metadata": {
    "nteract": {
     "transient": {
      "deleting": false
     }
    }
   },
   "source": [
    "## Efecto Compton\n",
    "\n",
    "El efecto Compton tiene lugar en la interacción de un fotón (partícula incidente) y un electrón poco ligado al átomo. Se produce entonces una colisión casi elástica. Al colisionar el fotón con el electrón este es desviado, y el fotón original también. Puede asemejarse a un choque de bolas de billar. A veces si la energía del fotón incidente es muy justa, el electrón (o electrones, en el caso de una colisión múltiple) desviado apenas avanza (su traza es muy pequeña, casi imperceptible) y da la sensación de que el fotón (que, recordamos, no es más que luz) está zigzagueando.\n",
    "\n",
    "<b>Pregunta:</b> ¿Cuánto tiempo puede estar serpenteando un fotón que nace en el centro del Sol hasta llegar a la retina de cualquiera de tus ojos?\n",
    "\n",
    "<b>Respuesta:</b> Según los últimos modelos matemáticos, tendría una aproximación a 170.000 años."
   ]
  },
  {
   "cell_type": "code",
   "execution_count": null,
   "metadata": {
    "jupyter": {
     "output_hidden": false,
     "source_hidden": true
    }
   },
   "outputs": [],
   "source": []
  },
  {
   "cell_type": "markdown",
   "metadata": {
    "nteract": {
     "transient": {
      "deleting": false
     }
    }
   },
   "source": [
    "## Producción de pares\n",
    "\n",
    "El efecto de creación de pares tiene lugar con fotones de alta energía (> 1.1 MeV), y representa un proceso de materialización de energía en el sentido de la Mecánica Relativista. El fenómeno que tiene lugar es la desaparición del fotón en el campo del núcleo, y la creación en su lugar de un par positrón-electrón (materia y antimateria).\n",
    "\n",
    "<b>Pregunta:</b> ¿qué es un positrón? ¿Quién postuló su existencia teórica y cuándo y cómo se descubrió experimentalmente?\n",
    "\n",
    "<b>Respuesta:</b> El positrón o antielectrón es una partícula elemental, antipartícula del electrón. Posee la misma cantidad de masa y espín que el electrón; sin embargo, su carga es de 1e, mientras que la del electrón es de -1e.2​ No forma parte de la materia ordinaria, sino de la antimateria, aunque se producen en numerosos procesos radioquímicos como parte de transformaciones nucleares. Esta partícula fue predicha por Paul Dirac en 1928, para luego ser descubierta en 1932 por el físico estadounidense Carl David Anderson al fotografiar las huellas de los rayos cósmicos en una cámara de niebla.\n",
    "\n",
    "<b>prueba:</b>\n",
    "\n",
    "* material_del_fantoma = \"G4_Fe\"\n",
    "* tipo_de_particulas = \"gamma\"\n",
    "* numero_de_particulas = 10\n",
    "* energia_de_las_particulas = 10\n",
    "* grosor_del_fantoma = 40\n",
    "\n",
    "Colores de las trazas para que las puedas seguir en el diagrama 3D:\n",
    "\n",
    "* color_electrones = \"red\"\n",
    "* color_positrones = \"yellow\"\n",
    "* color_fotones = \"white\"\n",
    "* color_protones = \"green\""
   ]
  },
  {
   "cell_type": "code",
   "execution_count": null,
   "metadata": {
    "jupyter": {
     "output_hidden": false,
     "source_hidden": true
    }
   },
   "outputs": [],
   "source": []
  },
  {
   "cell_type": "markdown",
   "metadata": {
    "nteract": {
     "transient": {
      "deleting": false
     }
    }
   },
   "source": [
    "## Ionización\n",
    "\n",
    "Si en los choques de una partícula cargada con los electrones atómicos, la energía transferida es superior a la energía de enlace del electrón que recibe el impacto, éste abandona el átomo y en consecuencia se crea un ion positivo. El electrón expulsado puede a continuación zigzaguear hasta ser capturado por un átomo del entorno (la traza deja de verse porque, como hemos comentado, el electrón se para).\n",
    "\n",
    "<b>prueba:</b>\n",
    "\n",
    "* material_del_fantoma = \"G4_AIR\"\n",
    "* tipo_de_particulas = \"gamma\"\n",
    "* numero_de_particulas = 30\n",
    "* energia_de_las_particulas = 50\n",
    "* grosor_del_fantoma = 40\n",
    "\n",
    "Colores de las trazas para que las puedas seguir en el diagrama 3D:\n",
    "  \n",
    "* color_electrones = \"red\"\n",
    "* color_positrones = \"yellow\"\n",
    "* color_fotones = \"white\"\n",
    "* color_protones = \"green\""
   ]
  },
  {
   "cell_type": "code",
   "execution_count": null,
   "metadata": {
    "jupyter": {
     "output_hidden": false,
     "source_hidden": true
    }
   },
   "outputs": [],
   "source": []
  },
  {
   "cell_type": "markdown",
   "metadata": {
    "nteract": {
     "transient": {
      "deleting": false
     }
    }
   },
   "source": [
    "## Bremsstrahlung\n",
    "\n",
    "Cuando una partícula incidente con masa y carga eléctrica interacciona con un núcleo atómico, puede sufrir una variación súbita de su velocidad, emite radiación electromagnética (un fotón).\n",
    "\n",
    "<b>prueba:</b>\n",
    "\n",
    "* material_del_fantoma = \"G4_Cu\"\n",
    "* tipo_de_particulas = \"gamma\"\n",
    "* numero_de_particulas = 30\n",
    "* energia_de_las_particulas = 50\n",
    "* grosor_del_fantoma = 40\n",
    "\n",
    "Colores de las trazas para que las puedas seguir en el diagrama 3D:\n",
    "  \n",
    "* color_electrones = \"red\"\n",
    "* color_positrones = \"yellow\"\n",
    "* color_fotones = \"white\"\n",
    "* color_protones = \"green\""
   ]
  },
  {
   "cell_type": "code",
   "execution_count": null,
   "metadata": {
    "jupyter": {
     "output_hidden": false,
     "source_hidden": true
    }
   },
   "outputs": [],
   "source": []
  },
  {
   "cell_type": "markdown",
   "metadata": {
    "nteract": {
     "transient": {
      "deleting": false
     }
    }
   },
   "source": [
    "## Aniquilación de pares\n",
    "\n",
    "Si un positrón y un electrón se encuentran, se aniquilan creando dos fotones que son emitidos en direcciones opuestas.\n",
    "\n",
    "<b>Pregunta:</b> ¿qué relación tiene la modalidad radiológica PET con la aniquilación de pares electrón-positrón? ¿Cómo se trasladan positrones hasta el interior de las células cancerígenas?\n",
    "\n",
    "<b>Respuesta:</b> La aniquilación de positrones es utilizada por los dispositivos de diagnóstico médico PET para generar imágenes tridimensionales de ciertas regiones del cuerpo.\n",
    "La Tomografía por Emisión de Positrones (PET) tiene un valor limitado en el diagnóstico primario y estadificación del cáncer de ovario, aunque puede complementar a los métodos convencionales. Tampoco puede sustituir a la \"second-look\" dada su baja sensibilidad para detectar enfermedad micronodular. No obstante, en aquellos pacientes en los que se sospeche recurrencia, la resolución de la PET es muy alta y debe considerarse en los casos de marcador CA 125 elevado y técnicas de imágenes convencionales negativas. Los nuevos equipos híbridos PET-TAC mejoran el rendimiento diagnóstico y parece que esta técnica acabará imponiéndose a las cámaras PET dedicadas. En el cáncer de cérvix, la PET es una técnica útil en la estadificación pre-terapéutica no invasiva de la enfermedad, ayudando a una adecuada planificación tanto quirúrgica como radioterápica. El seguimiento con PET permite un diagnóstico precoz y exacto de la enfermedad recurrente, con resultados superiores a las técnicas convencionales."
   ]
  },
  {
   "cell_type": "markdown",
   "metadata": {
    "nteract": {
     "transient": {
      "deleting": false
     }
    }
   },
   "source": [
    "<img src=\"https://pammachome.files.wordpress.com/2018/12/aniquilacion.jpg\" referrerpolicy=\"no-referrer\" alt=\"Aniquilación\">"
   ]
  }
 ],
 "metadata": {
  "kernel_info": {
   "name": "python3"
  },
  "kernelspec": {
   "display_name": "Python 3",
   "language": "python",
   "name": "python3"
  },
  "language_info": {
   "codemirror_mode": {
    "name": "ipython",
    "version": 3
   },
   "file_extension": ".py",
   "mimetype": "text/x-python",
   "name": "python",
   "nbconvert_exporter": "python",
   "pygments_lexer": "ipython3",
   "version": "3.8.5"
  },
  "nteract": {
   "version": "0.28.0"
  }
 },
 "nbformat": 4,
 "nbformat_minor": 1
}
